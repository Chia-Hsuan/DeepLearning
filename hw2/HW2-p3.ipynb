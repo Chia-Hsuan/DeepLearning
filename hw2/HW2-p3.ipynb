{
 "cells": [
  {
   "cell_type": "code",
   "execution_count": 7,
   "metadata": {},
   "outputs": [],
   "source": [
    "import numpy as np\n",
    "import tensorflow as tf\n",
    "import pandas as pd\n",
    "import matplotlib.pyplot as plt\n",
    "import copy\n",
    "import cv2\n",
    "import keras\n",
    "from string import printable\n",
    "from keras.layers import Input, Dense, Conv2D, MaxPooling2D, UpSampling2D, Flatten, LSTM, SimpleRNN, Embedding, Lambda\n",
    "from keras.models import Model, Sequential\n",
    "from keras.datasets import fashion_mnist\n",
    "from keras import backend as K\n",
    "from keras.layers.core import Dense, Dropout, Activation, Flatten, Reshape\n",
    "from keras.optimizers import SGD, RMSprop\n",
    "from keras.utils import np_utils\n",
    "from keras.regularizers import l2\n",
    "from keras.layers.convolutional import Conv1D, Conv2D, MaxPooling2D, ZeroPadding2D, AveragePooling2D\n",
    "from keras.callbacks import EarlyStopping\n",
    "from keras.preprocessing.image import ImageDataGenerator\n",
    "from keras.layers.normalization import BatchNormalization\n",
    "from PIL import Image\n",
    "from keras.applications import VGG16\n",
    "from keras.preprocessing.image import ImageDataGenerator, array_to_img, img_to_array, load_img\n",
    "from keras.optimizers import RMSprop\n",
    "from sklearn.metrics import roc_curve, auc\n",
    "from sklearn.model_selection import train_test_split\n",
    "from keras import callbacks\n",
    "from keras.callbacks import TensorBoard\n",
    "from keras.preprocessing.sequence import pad_sequences"
   ]
  },
  {
   "cell_type": "code",
   "execution_count": 8,
   "metadata": {},
   "outputs": [],
   "source": [
    "# read data\n",
    "benign_list = []\n",
    "malicious_list = []\n",
    "with open(\"benign-urls.txt\") as files:\n",
    "    lines = files.readlines()\n",
    "    for line in lines:\n",
    "        if not line.startswith(\"#\"):\n",
    "            benign_list.append(line.strip())\n",
    "with open(\"malicious-urls.txt\") as files:\n",
    "    lines = files.readlines()\n",
    "    for line in lines:\n",
    "        malicious_list.append(line.strip())"
   ]
  },
  {
   "cell_type": "code",
   "execution_count": 9,
   "metadata": {},
   "outputs": [],
   "source": [
    "# combine and split data\n",
    "total = benign_list + malicious_list\n",
    "max_len = 0\n",
    "url_result = []\n",
    "char_set = set()\n",
    "for e in list(total):\n",
    "    urls = []\n",
    "    for c in e:\n",
    "        urls.append(printable.index(c))\n",
    "        for cc in c:\n",
    "            char_set.add(cc)\n",
    "    len_urls = len(urls)\n",
    "    max_len = max(max_len, len_urls)\n",
    "    url_result.append(urls)\n",
    "\n",
    "chars = sorted(list(char_set))\n",
    "char_indices = dict((c, i) for i, c in enumerate(chars))\n",
    "indices_char = dict((i, c) for i, c in enumerate(chars))\n",
    "X = pad_sequences(url_result, maxlen=max_len)\n",
    "y = np.concatenate([np.ones(len(malicious_list)), np.zeros(len(benign_list))])\n",
    "y = np.array(y)\n",
    "X_train, X_test, y_train, y_test = train_test_split(X, y, test_size=0.3, shuffle=True)"
   ]
  },
  {
   "cell_type": "code",
   "execution_count": 10,
   "metadata": {},
   "outputs": [],
   "source": [
    "#3.1"
   ]
  },
  {
   "cell_type": "code",
   "execution_count": 11,
   "metadata": {},
   "outputs": [],
   "source": [
    "X_train_rnn = np.zeros((len(X_train), max_len, len(chars)), dtype=np.uint8)\n",
    "X_test_rnn = np.zeros((len(X_test), max_len, len(chars)), dtype=np.uint8)\n",
    "for i, seq in enumerate(list(X_train)):\n",
    "    for t, char in enumerate(seq):\n",
    "        X_train_rnn[i, t, char_indices[char]] = 1\n",
    "for i, seq in enumerate(list(X_test)):\n",
    "    for t, char in enumerate(seq):\n",
    "        X_test_rnn[i, t, char_indices[char]] = 1"
   ]
  },
  {
   "cell_type": "code",
   "execution_count": 12,
   "metadata": {},
   "outputs": [],
   "source": [
    "model_rnn = Sequential()\n",
    "model_rnn.add(SimpleRNN(32, input_shape=(86, len(chars))))\n",
    "model_rnn.add(Dense(1, activation=\"softmax\"))\n",
    "model_rnn.compile(loss='binary_crossentropy', optimizer='rmsprop', metrics=['acc'])\n",
    "model_rnn.summary()"
   ]
  },
  {
   "cell_type": "code",
   "execution_count": null,
   "metadata": {},
   "outputs": [],
   "source": [
    "model_rnn.fit(X_train_rnn, y_train, epochs=10, batch_size=128)"
   ]
  },
  {
   "cell_type": "code",
   "execution_count": null,
   "metadata": {},
   "outputs": [],
   "source": [
    "#3.2"
   ]
  },
  {
   "cell_type": "code",
   "execution_count": null,
   "metadata": {},
   "outputs": [],
   "source": [
    "model_cnn = Sequential()\n",
    "model_cnn.add(Embedding(len(chars), 100, input_length=86))\n",
    "model_cnn.add(Dropout(0.3))\n",
    "model_cnn.add(Conv1D(128, kernel_size=2, activation='relu', border_mode='same'))\n",
    "model_cnn.add(Dropout(0.5))\n",
    "model_cnn.add(Dense(1, activation='sigmoid'))\n",
    "model_cnn.compile(loss='binary_crossentropy', optimizer=RMSprop(lr=0.01))\n",
    "model_cnn.summary()"
   ]
  },
  {
   "cell_type": "code",
   "execution_count": null,
   "metadata": {},
   "outputs": [],
   "source": [
    "X_train_cnn = np.zeros((len(X_train), max_len), dtype=np.uint8)\n",
    "X_test_cnn = np.zeros((len(X_test), max_len), dtype=np.uint8)\n",
    "for i, seq in enumerate(list(X_train)):\n",
    "    for t, char in enumerate(seq):\n",
    "        X_train_cnn[i, t, char_indices[char]] = 1\n",
    "for i, seq in enumerate(list(X_test)):\n",
    "    for t, char in enumerate(seq):\n",
    "        X_test_cnn[i, t, char_indices[char]] = 1"
   ]
  },
  {
   "cell_type": "code",
   "execution_count": null,
   "metadata": {},
   "outputs": [],
   "source": [
    "model_cnn.fit(X_train_cnn, y_train, epochs=20, batch_size=128)"
   ]
  },
  {
   "cell_type": "code",
   "execution_count": null,
   "metadata": {},
   "outputs": [],
   "source": [
    "#3.3"
   ]
  },
  {
   "cell_type": "code",
   "execution_count": 6,
   "metadata": {},
   "outputs": [],
   "source": [
    "rnn_result = model_rnn.predict(X_test_rnn)\n",
    "(rnn_fp, rnn_tp, rnn_threshold) = roc_curve(y_test, rnn_result)\n",
    "rnn_auc = auc(rnn_fp, rnn_tp)\n",
    "\n",
    "cnn_result = model_cnn.predict(X_test)\n",
    "(cnn_fp, cnn_tp, cnn_threshold) = roc_curve(y_test, cnn_result)\n",
    "cnn_auc = auc(cnn_fp, cnn_tp)\n",
    "\n",
    "plt.figure()\n",
    "plt.title('ROC')\n",
    "plt.xlabel('FP')\n",
    "plt.ylabel('TP')\n",
    "plt.plot([0, 1], [0, 1], linestyle='dashed')\n",
    "plt.plot(rnn_fp, rnn_tp, label='RNN ROC area = %0.4f' % rnn_auc)\n",
    "plt.plot(cnn_fp, cnn_tp, label='CNN ROC area = %0.4f' % cnn_auc)\n",
    "plt.legend(loc=\"best\")\n",
    "plt.show()"
   ]
  },
  {
   "cell_type": "code",
   "execution_count": null,
   "metadata": {},
   "outputs": [],
   "source": []
  }
 ],
 "metadata": {
  "kernelspec": {
   "display_name": "Python 3",
   "language": "python",
   "name": "python3"
  },
  "language_info": {
   "codemirror_mode": {
    "name": "ipython",
    "version": 3
   },
   "file_extension": ".py",
   "mimetype": "text/x-python",
   "name": "python",
   "nbconvert_exporter": "python",
   "pygments_lexer": "ipython3",
   "version": "3.6.5"
  }
 },
 "nbformat": 4,
 "nbformat_minor": 2
}

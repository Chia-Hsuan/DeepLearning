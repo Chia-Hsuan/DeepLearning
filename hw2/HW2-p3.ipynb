{
 "cells": [
  {
   "cell_type": "code",
   "execution_count": 44,
   "metadata": {},
   "outputs": [],
   "source": [
    "import numpy as np\n",
    "import tensorflow as tf\n",
    "import pandas as pd\n",
    "import matplotlib.pyplot as plt\n",
    "import copy\n",
    "import cv2\n",
    "import keras\n",
    "from string import printable\n",
    "from keras.layers import Input, Dense, Conv2D, MaxPooling2D, MaxPooling1D, UpSampling2D, Flatten, LSTM, SimpleRNN, Embedding, Lambda, GlobalMaxPooling1D, BatchNormalization, ELU\n",
    "from keras.models import Model, Sequential\n",
    "from keras.datasets import fashion_mnist\n",
    "from keras import backend\n",
    "from keras.layers.core import Dense, Dropout, Activation, Flatten, Reshape\n",
    "from keras.optimizers import SGD, RMSprop\n",
    "from keras.utils import np_utils\n",
    "from keras.regularizers import l2\n",
    "from keras.layers.convolutional import Conv1D, Conv2D, MaxPooling2D, ZeroPadding2D, AveragePooling2D\n",
    "from keras.callbacks import EarlyStopping\n",
    "from keras.preprocessing.image import ImageDataGenerator\n",
    "from keras.layers.normalization import BatchNormalization\n",
    "from PIL import Image\n",
    "from keras.applications import VGG16\n",
    "from keras.preprocessing.image import ImageDataGenerator, array_to_img, img_to_array, load_img\n",
    "from keras.optimizers import RMSprop\n",
    "from sklearn.metrics import roc_curve, auc\n",
    "from sklearn.model_selection import train_test_split\n",
    "from keras import callbacks\n",
    "from keras.callbacks import TensorBoard\n",
    "from keras.preprocessing.sequence import pad_sequences"
   ]
  },
  {
   "cell_type": "code",
   "execution_count": 15,
   "metadata": {},
   "outputs": [],
   "source": [
    "#3.1"
   ]
  },
  {
   "cell_type": "code",
   "execution_count": 153,
   "metadata": {},
   "outputs": [],
   "source": [
    "benign_list = []\n",
    "malicious_list = []\n",
    "\n",
    "with open(\"benign-urls.txt\") as files:\n",
    "    lines = files.readlines()\n",
    "    for line in lines:\n",
    "        if not line.startswith(\"#\"):\n",
    "            line = line.strip()\n",
    "            benign_list.append(line)\n",
    "\n",
    "with open(\"malicious-urls.txt\") as files:\n",
    "    lines = files.readlines()\n",
    "    for line in lines:\n",
    "        line = line.strip()\n",
    "        malicious_list.append(line)"
   ]
  },
  {
   "cell_type": "code",
   "execution_count": 154,
   "metadata": {},
   "outputs": [],
   "source": [
    "total = benign_list + malicious_list\n",
    "y = np.concatenate([np.ones(len(benign_list)), np.zeros(len(malicious_list))])\n",
    "df = pd.DataFrame({'urls': total, 'label': y})\n",
    "max_len = 0\n",
    "total_url_token = []\n",
    "\n",
    "for url in df.urls:\n",
    "    sub_url_token = []\n",
    "    for link in url:\n",
    "        sub_url_token.append(printable.index(link))\n",
    "    total_url_token.append(sub_url_token)\n",
    "    max_len = max(max_len, len(sub_url_token))\n",
    "\n",
    "input_X = pad_sequences(total_url_token, maxlen=max_len)\n",
    "input_y = np.array(df.label)\n",
    "X_train, X_test, y_train, y_test = train_test_split(input_X, input_y, test_size=0.2, shuffle=True, random_state = 1240)"
   ]
  },
  {
   "cell_type": "code",
   "execution_count": 155,
   "metadata": {},
   "outputs": [
    {
     "name": "stdout",
     "output_type": "stream",
     "text": [
      "_________________________________________________________________\n",
      "Layer (type)                 Output Shape              Param #   \n",
      "=================================================================\n",
      "embedding_57 (Embedding)     (None, None, 32)          2880      \n",
      "_________________________________________________________________\n",
      "lstm_9 (LSTM)                (None, 64)                24832     \n",
      "_________________________________________________________________\n",
      "dropout_125 (Dropout)        (None, 64)                0         \n",
      "_________________________________________________________________\n",
      "dense_81 (Dense)             (None, 1)                 65        \n",
      "=================================================================\n",
      "Total params: 27,777\n",
      "Trainable params: 27,777\n",
      "Non-trainable params: 0\n",
      "_________________________________________________________________\n"
     ]
    }
   ],
   "source": [
    "model_rnn = Sequential()\n",
    "model_rnn.add(Embedding(90, 32))\n",
    "model_rnn.add(LSTM(64))\n",
    "model_rnn.add(Dropout(0.3))\n",
    "model_rnn.add(Dense(1, activation ='sigmoid'))\n",
    "model_rnn.compile(loss = 'binary_crossentropy', optimizer = 'rmsprop', metrics=['acc'])\n",
    "model_rnn.summary()"
   ]
  },
  {
   "cell_type": "code",
   "execution_count": 156,
   "metadata": {},
   "outputs": [
    {
     "name": "stdout",
     "output_type": "stream",
     "text": [
      "Epoch 1/10\n",
      "53848/53848 [==============================] - 38s 709us/step - loss: 0.0803 - acc: 0.9792\n",
      "Epoch 2/10\n",
      "53848/53848 [==============================] - 35s 652us/step - loss: 0.0322 - acc: 0.9837\n",
      "Epoch 3/10\n",
      "53848/53848 [==============================] - 36s 661us/step - loss: 0.0257 - acc: 0.9872\n",
      "Epoch 4/10\n",
      "53848/53848 [==============================] - 35s 657us/step - loss: 0.0246 - acc: 0.9888\n",
      "Epoch 5/10\n",
      "53848/53848 [==============================] - 35s 657us/step - loss: 0.0237 - acc: 0.9888\n",
      "Epoch 6/10\n",
      "53848/53848 [==============================] - 36s 670us/step - loss: 0.0230 - acc: 0.9893\n",
      "Epoch 7/10\n",
      "53848/53848 [==============================] - 37s 686us/step - loss: 0.0226 - acc: 0.9894\n",
      "Epoch 8/10\n",
      "53848/53848 [==============================] - 36s 670us/step - loss: 0.0219 - acc: 0.9891\n",
      "Epoch 9/10\n",
      "53848/53848 [==============================] - 40s 744us/step - loss: 0.0212 - acc: 0.9899\n",
      "Epoch 10/10\n",
      "53848/53848 [==============================] - 37s 696us/step - loss: 0.0214 - acc: 0.9902\n"
     ]
    },
    {
     "data": {
      "text/plain": [
       "<keras.callbacks.History at 0x1a3c057908>"
      ]
     },
     "execution_count": 156,
     "metadata": {},
     "output_type": "execute_result"
    }
   ],
   "source": [
    "model_rnn.fit(X_train, y_train, epochs=10, batch_size=128)"
   ]
  },
  {
   "cell_type": "code",
   "execution_count": 157,
   "metadata": {},
   "outputs": [
    {
     "name": "stdout",
     "output_type": "stream",
     "text": [
      "Train classification accuracy rate 0.99042\n",
      "Test classification accuracy rate 0.98849\n"
     ]
    }
   ],
   "source": [
    "print(\"Train classification accuracy rate %0.05f\" % model_rnn.evaluate(X_train, y_train, verbose=0)[1])\n",
    "print(\"Test classification accuracy rate %0.05f\" % model_rnn.evaluate(X_test, y_test, verbose=0)[1])"
   ]
  },
  {
   "cell_type": "code",
   "execution_count": null,
   "metadata": {},
   "outputs": [],
   "source": [
    "#3.2"
   ]
  },
  {
   "cell_type": "code",
   "execution_count": 158,
   "metadata": {},
   "outputs": [],
   "source": [
    "benign_list = []\n",
    "malicious_list = []\n",
    "\n",
    "with open(\"benign-urls.txt\") as files:\n",
    "    lines = files.readlines()\n",
    "    for line in lines:\n",
    "        if not line.startswith(\"#\"):\n",
    "            line = line.strip()\n",
    "            benign_list.append(line)\n",
    "\n",
    "with open(\"malicious-urls.txt\") as files:\n",
    "    lines = files.readlines()\n",
    "    for line in lines:\n",
    "        line = line.strip()\n",
    "        malicious_list.append(line)"
   ]
  },
  {
   "cell_type": "code",
   "execution_count": 159,
   "metadata": {},
   "outputs": [],
   "source": [
    "total = benign_list + malicious_list\n",
    "y = np.concatenate([np.ones(len(benign_list)), np.zeros(len(malicious_list))])\n",
    "df = pd.DataFrame({'urls': total, 'label': y})\n",
    "max_len = 0\n",
    "total_url_token = []\n",
    "\n",
    "for url in df.urls:\n",
    "    sub_url_token = []\n",
    "    for link in url:\n",
    "        sub_url_token.append(printable.index(link))\n",
    "    total_url_token.append(sub_url_token)\n",
    "    max_len = max(max_len, len(sub_url_token))\n",
    "\n",
    "input_X = pad_sequences(total_url_token, maxlen=max_len)\n",
    "input_y = np.array(df.label)\n",
    "x_train, x_test, y_train, y_test = train_test_split(input_X, input_y, test_size=0.2, shuffle=True, random_state = 1240)"
   ]
  },
  {
   "cell_type": "code",
   "execution_count": 160,
   "metadata": {},
   "outputs": [],
   "source": [
    "def totalsum(X):\n",
    "    return backend.sum(X, axis=1)"
   ]
  },
  {
   "cell_type": "code",
   "execution_count": 161,
   "metadata": {},
   "outputs": [
    {
     "name": "stdout",
     "output_type": "stream",
     "text": [
      "_________________________________________________________________\n",
      "Layer (type)                 Output Shape              Param #   \n",
      "=================================================================\n",
      "embedding_58 (Embedding)     (None, 86, 32)            2880      \n",
      "_________________________________________________________________\n",
      "dropout_126 (Dropout)        (None, 86, 32)            0         \n",
      "_________________________________________________________________\n",
      "conv1d_49 (Conv1D)           (None, 86, 256)           16640     \n",
      "_________________________________________________________________\n",
      "lambda_41 (Lambda)           (None, 256)               0         \n",
      "_________________________________________________________________\n",
      "dropout_127 (Dropout)        (None, 256)               0         \n",
      "_________________________________________________________________\n",
      "dense_82 (Dense)             (None, 256)               65792     \n",
      "_________________________________________________________________\n",
      "batch_normalization_36 (Batc (None, 256)               1024      \n",
      "_________________________________________________________________\n",
      "dropout_128 (Dropout)        (None, 256)               0         \n",
      "_________________________________________________________________\n",
      "dense_83 (Dense)             (None, 1)                 257       \n",
      "=================================================================\n",
      "Total params: 86,593\n",
      "Trainable params: 86,081\n",
      "Non-trainable params: 512\n",
      "_________________________________________________________________\n"
     ]
    },
    {
     "name": "stderr",
     "output_type": "stream",
     "text": [
      "/anaconda3/lib/python3.6/site-packages/ipykernel_launcher.py:8: UserWarning: Update your `BatchNormalization` call to the Keras 2 API: `BatchNormalization()`\n",
      "  \n"
     ]
    }
   ],
   "source": [
    "model_cnn = Sequential()\n",
    "model_cnn.add(Embedding(90, 32, input_length=max_len))\n",
    "model_cnn.add(Dropout(0.3))\n",
    "model_cnn.add(Conv1D(filters=256, kernel_size=2, activation='relu', padding='same'))\n",
    "model_cnn.add(Lambda(totalsum, output_shape=(256,)))\n",
    "model_cnn.add(Dropout(0.5))\n",
    "model_cnn.add(Dense(256, activation='sigmoid'))\n",
    "model_cnn.add(BatchNormalization(mode=0))\n",
    "model_cnn.add(Dropout(0.3))\n",
    "model_cnn.add(Dense(1, activation='sigmoid'))\n",
    "model_cnn.compile(loss='binary_crossentropy', optimizer='rmsprop', metrics=['acc'])\n",
    "model_cnn.summary()"
   ]
  },
  {
   "cell_type": "code",
   "execution_count": 162,
   "metadata": {},
   "outputs": [
    {
     "name": "stdout",
     "output_type": "stream",
     "text": [
      "Epoch 1/10\n",
      "53848/53848 [==============================] - 18s 339us/step - loss: 0.1625 - acc: 0.9397\n",
      "Epoch 2/10\n",
      "53848/53848 [==============================] - 15s 284us/step - loss: 0.0582 - acc: 0.9796\n",
      "Epoch 3/10\n",
      "53848/53848 [==============================] - 15s 280us/step - loss: 0.0503 - acc: 0.9824\n",
      "Epoch 4/10\n",
      "53848/53848 [==============================] - 15s 282us/step - loss: 0.0451 - acc: 0.9836\n",
      "Epoch 5/10\n",
      "53848/53848 [==============================] - 15s 282us/step - loss: 0.0415 - acc: 0.9845\n",
      "Epoch 6/10\n",
      "53848/53848 [==============================] - 15s 282us/step - loss: 0.0412 - acc: 0.9848\n",
      "Epoch 7/10\n",
      "53848/53848 [==============================] - 15s 285us/step - loss: 0.0388 - acc: 0.9854\n",
      "Epoch 8/10\n",
      "53848/53848 [==============================] - 15s 282us/step - loss: 0.0388 - acc: 0.9853\n",
      "Epoch 9/10\n",
      "53848/53848 [==============================] - 16s 288us/step - loss: 0.0374 - acc: 0.9851\n",
      "Epoch 10/10\n",
      "53848/53848 [==============================] - 17s 323us/step - loss: 0.0382 - acc: 0.9854\n"
     ]
    },
    {
     "data": {
      "text/plain": [
       "<keras.callbacks.History at 0x1a3c0577b8>"
      ]
     },
     "execution_count": 162,
     "metadata": {},
     "output_type": "execute_result"
    }
   ],
   "source": [
    "model_cnn.fit(X_train, y_train, epochs=10, batch_size=128, verbose=1)"
   ]
  },
  {
   "cell_type": "code",
   "execution_count": 163,
   "metadata": {},
   "outputs": [
    {
     "name": "stdout",
     "output_type": "stream",
     "text": [
      "Train classification accuracy rate 0.98137\n",
      "Test classification accuracy rate 0.98128\n"
     ]
    }
   ],
   "source": [
    "print(\"Train classification accuracy rate %0.05f\" % model_cnn.evaluate(X_train, y_train, verbose=0)[1])\n",
    "print(\"Test classification accuracy rate %0.05f\" % model_cnn.evaluate(X_test, y_test, verbose=0)[1])"
   ]
  },
  {
   "cell_type": "markdown",
   "metadata": {},
   "source": [
    "3.3"
   ]
  },
  {
   "cell_type": "code",
   "execution_count": 164,
   "metadata": {},
   "outputs": [
    {
     "data": {
      "image/png": "[encoded data removed]",
      "text/plain": [
       "<Figure size 432x288 with 1 Axes>"
      ]
     },
     "metadata": {},
     "output_type": "display_data"
    }
   ],
   "source": [
    "rnn_result = model_rnn.predict(X_test)\n",
    "(rnn_fp, rnn_tp, rnn_threshold) = roc_curve(y_test, rnn_result)\n",
    "rnn_auc = auc(rnn_fp, rnn_tp)\n",
    "\n",
    "cnn_result = model_cnn.predict(X_test)\n",
    "(cnn_fp, cnn_tp, cnn_threshold) = roc_curve(y_test, cnn_result)\n",
    "cnn_auc = auc(cnn_fp, cnn_tp)\n",
    "\n",
    "plt.figure()\n",
    "plt.title('ROC')\n",
    "plt.xlabel('FP')\n",
    "plt.ylabel('TP')\n",
    "plt.plot([0, 1], [0, 1], linestyle='dashed')\n",
    "plt.plot(rnn_fp, rnn_tp, label='RNN ROC area = %0.4f' % rnn_auc)\n",
    "plt.plot(cnn_fp, cnn_tp, label='CNN ROC area = %0.4f' % cnn_auc)\n",
    "plt.legend(loc=\"best\")\n",
    "plt.show()"
   ]
  }
 ],
 "metadata": {
  "kernelspec": {
   "display_name": "Python 3",
   "language": "python",
   "name": "python3"
  },
  "language_info": {
   "codemirror_mode": {
    "name": "ipython",
    "version": 3
   },
   "file_extension": ".py",
   "mimetype": "text/x-python",
   "name": "python",
   "nbconvert_exporter": "python",
   "pygments_lexer": "ipython3",
   "version": "3.6.5"
  }
 },
 "nbformat": 4,
 "nbformat_minor": 2
}

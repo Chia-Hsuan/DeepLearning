{
  "nbformat": 4,
  "nbformat_minor": 0,
  "metadata": {
    "colab": {
      "name": "Untitled0.ipynb",
      "version": "0.3.2",
      "provenance": [],
      "collapsed_sections": []
    },
    "kernelspec": {
      "name": "python3",
      "display_name": "Python 3"
    }
  },
  "cells": [
    {
      "metadata": {
        "id": "GphnZeKw-5cj",
        "colab_type": "code",
        "colab": {
          "base_uri": "https://localhost:8080/",
          "height": 74
        },
        "outputId": "6200d16c-7886-400d-e326-2c72522af8c2"
      },
      "cell_type": "code",
      "source": [
        "import numpy as np\n",
        "import tensorflow as tf\n",
        "import pandas as pd\n",
        "import matplotlib.pyplot as plt\n",
        "import copy\n",
        "import cv2\n",
        "import keras\n",
        "from string import printable\n",
        "from keras.layers import Input, Dense, Conv2D, MaxPooling2D, UpSampling2D, Flatten\n",
        "from keras.models import Model, Sequential\n",
        "from keras.datasets import fashion_mnist\n",
        "from keras import backend as K\n",
        "from keras.layers.core import Dense, Dropout, Activation, Flatten, Reshape\n",
        "from keras.optimizers import SGD, RMSprop\n",
        "from keras.utils import np_utils\n",
        "from keras.regularizers import l2\n",
        "from keras.layers.convolutional import Conv2D, MaxPooling2D, ZeroPadding2D, AveragePooling2D\n",
        "from keras.callbacks import EarlyStopping\n",
        "from keras.preprocessing.image import ImageDataGenerator\n",
        "from keras.layers.normalization import BatchNormalization\n",
        "from PIL import Image\n",
        "from keras.applications import VGG16\n",
        "from keras.preprocessing.image import ImageDataGenerator, array_to_img, img_to_array, load_img\n",
        "from keras.optimizers import RMSprop\n",
        "from sklearn.metrics import roc_curve, auc\n",
        "from sklearn.model_selection import train_test_split\n",
        "from keras import callbacks\n",
        "from keras.callbacks import TensorBoard\n",
        "from keras.preprocessing.sequence import pad_sequences"
      ],
      "execution_count": 4,
      "outputs": [
        {
          "output_type": "stream",
          "text": [
            "Using TensorFlow backend.\n"
          ],
          "name": "stderr"
        }
      ]
    },
    {
      "metadata": {
        "id": "Aj9kFGnbX4G4",
        "colab_type": "text"
      },
      "cell_type": "markdown",
      "source": [
        "# 1 Autoencoder"
      ]
    },
    {
      "metadata": {
        "id": "yZsmHtXV_Axk",
        "colab_type": "code",
        "outputId": "531034bb-d429-4f52-c25f-1ce38d4e553c",
        "colab": {
          "base_uri": "https://localhost:8080/",
          "height": 74
        }
      },
      "cell_type": "code",
      "source": [
        "(x_train, y_train), (x_test, y_test) = fashion_mnist.load_data()\n",
        "x_train = x_train.astype('float32') / 255.\n",
        "x_test = x_test.astype('float32') / 255.\n",
        "x_train = np.reshape(x_train, (x_train.shape[0], 28, 28, 1))\n",
        "x_test = np.reshape(x_test, (x_test.shape[0], 28, 28, 1))\n",
        "y_train = np_utils.to_categorical(y_train, 10)\n",
        "y_test = np_utils.to_categorical(y_test, 10)\n",
        "\n",
        "print (x_train.shape)"
      ],
      "execution_count": 59,
      "outputs": [
        {
          "output_type": "stream",
          "text": [
            "(60000, 28, 28, 1)\n"
          ],
          "name": "stdout"
        }
      ]
    },
    {
      "metadata": {
        "id": "epMS4PP8_W6g",
        "colab_type": "code",
        "outputId": "460a0a01-7b3f-4357-f851-c7e845e97e88",
        "colab": {
          "base_uri": "https://localhost:8080/",
          "height": 636
        }
      },
      "cell_type": "code",
      "source": [
        "img = Input(shape=(28, 28, 1))\n",
        "x = Conv2D(16, (3, 3), activation='relu', padding='same')(img)\n",
        "x = MaxPooling2D((2, 2), padding='same')(x)\n",
        "x = Conv2D(8, (3, 3), activation='relu', padding='same')(x)\n",
        "x = MaxPooling2D((2, 2), padding='same')(x)\n",
        "x = Conv2D(8, (3, 3), activation='relu', padding='same')(x)\n",
        "encoding = MaxPooling2D((2, 2), padding='same')(x)\n",
        "x = Conv2D(8, (3, 3), activation='relu', padding='same')(encoding)\n",
        "x = UpSampling2D((2, 2))(x)\n",
        "x = Conv2D(8, (3, 3), activation='relu', padding='same')(x)\n",
        "x = UpSampling2D((2, 2))(x)\n",
        "x = Conv2D(16, (3, 3), activation='relu', padding='same')(x)\n",
        "x = UpSampling2D((2, 2))(x)\n",
        "decoding = Conv2D(1, (3, 3), activation='sigmoid', padding='same')(x)\n",
        "\n",
        "autoencoder = Model(img, decoding)\n",
        "autoencoder.compile(optimizer='adadelta', loss='binary_crossentropy')\n",
        "autoencoder.summary()"
      ],
      "execution_count": 41,
      "outputs": [
        {
          "output_type": "stream",
          "text": [
            "_________________________________________________________________\n",
            "Layer (type)                 Output Shape              Param #   \n",
            "=================================================================\n",
            "input_13 (InputLayer)        (None, 28, 28, 1)         0         \n",
            "_________________________________________________________________\n",
            "conv2d_85 (Conv2D)           (None, 28, 28, 16)        160       \n",
            "_________________________________________________________________\n",
            "max_pooling2d_37 (MaxPooling (None, 14, 14, 16)        0         \n",
            "_________________________________________________________________\n",
            "conv2d_86 (Conv2D)           (None, 14, 14, 8)         1160      \n",
            "_________________________________________________________________\n",
            "max_pooling2d_38 (MaxPooling (None, 7, 7, 8)           0         \n",
            "_________________________________________________________________\n",
            "conv2d_87 (Conv2D)           (None, 7, 7, 8)           584       \n",
            "_________________________________________________________________\n",
            "max_pooling2d_39 (MaxPooling (None, 4, 4, 8)           0         \n",
            "_________________________________________________________________\n",
            "conv2d_88 (Conv2D)           (None, 4, 4, 8)           584       \n",
            "_________________________________________________________________\n",
            "up_sampling2d_37 (UpSampling (None, 8, 8, 8)           0         \n",
            "_________________________________________________________________\n",
            "conv2d_89 (Conv2D)           (None, 8, 8, 8)           584       \n",
            "_________________________________________________________________\n",
            "up_sampling2d_38 (UpSampling (None, 16, 16, 8)         0         \n",
            "_________________________________________________________________\n",
            "conv2d_90 (Conv2D)           (None, 16, 16, 16)        1168      \n",
            "_________________________________________________________________\n",
            "up_sampling2d_39 (UpSampling (None, 32, 32, 16)        0         \n",
            "_________________________________________________________________\n",
            "conv2d_91 (Conv2D)           (None, 32, 32, 1)         145       \n",
            "=================================================================\n",
            "Total params: 4,385\n",
            "Trainable params: 4,385\n",
            "Non-trainable params: 0\n",
            "_________________________________________________________________\n"
          ],
          "name": "stdout"
        }
      ]
    },
    {
      "metadata": {
        "id": "IizPYbnZ_hR7",
        "colab_type": "code",
        "outputId": "9893d069-2210-49e4-b1b2-66294a4afc4a",
        "colab": {
          "base_uri": "https://localhost:8080/",
          "height": 1020
        }
      },
      "cell_type": "code",
      "source": [
        "autoencoder.fit(x_train, x_train,\n",
        "                epochs=20,\n",
        "                batch_size=128,\n",
        "                shuffle=True,\n",
        "                validation_data=(x_test, x_test))"
      ],
      "execution_count": 54,
      "outputs": [
        {
          "output_type": "stream",
          "text": [
            "Train on 60000 samples, validate on 10000 samples\n",
            "Epoch 1/20\n",
            "60000/60000 [==============================] - 285s 5ms/step - loss: 0.3111 - val_loss: 0.3274\n",
            "Epoch 2/20\n",
            "60000/60000 [==============================] - 287s 5ms/step - loss: 0.2918 - val_loss: 0.2992\n",
            "Epoch 3/20\n",
            "60000/60000 [==============================] - 287s 5ms/step - loss: 0.2863 - val_loss: 0.2947\n",
            "Epoch 4/20\n",
            "60000/60000 [==============================] - 285s 5ms/step - loss: 0.2830 - val_loss: 0.2876\n",
            "Epoch 5/20\n",
            "60000/60000 [==============================] - 285s 5ms/step - loss: 0.2807 - val_loss: 0.2797\n",
            "Epoch 6/20\n",
            "60000/60000 [==============================] - 285s 5ms/step - loss: 0.2788 - val_loss: 0.2794\n",
            "Epoch 7/20\n",
            "60000/60000 [==============================] - 285s 5ms/step - loss: 0.2774 - val_loss: 0.2784\n",
            "Epoch 8/20\n",
            "60000/60000 [==============================] - 285s 5ms/step - loss: 0.2763 - val_loss: 0.2783\n",
            "Epoch 9/20\n",
            "60000/60000 [==============================] - 285s 5ms/step - loss: 0.2754 - val_loss: 0.2771\n",
            "Epoch 10/20\n",
            "60000/60000 [==============================] - 287s 5ms/step - loss: 0.2744 - val_loss: 0.2755\n",
            "Epoch 11/20\n",
            "60000/60000 [==============================] - 286s 5ms/step - loss: 0.2737 - val_loss: 0.2749\n",
            "Epoch 12/20\n",
            "60000/60000 [==============================] - 285s 5ms/step - loss: 0.2730 - val_loss: 0.2767\n",
            "Epoch 13/20\n",
            "60000/60000 [==============================] - 286s 5ms/step - loss: 0.2725 - val_loss: 0.2758\n",
            "Epoch 14/20\n",
            "60000/60000 [==============================] - 286s 5ms/step - loss: 0.2720 - val_loss: 0.2747\n",
            "Epoch 15/20\n",
            "60000/60000 [==============================] - 285s 5ms/step - loss: 0.2715 - val_loss: 0.2760\n",
            "Epoch 16/20\n",
            "60000/60000 [==============================] - 287s 5ms/step - loss: 0.2711 - val_loss: 0.2731\n",
            "Epoch 17/20\n",
            "60000/60000 [==============================] - 287s 5ms/step - loss: 0.2708 - val_loss: 0.2725\n",
            "Epoch 18/20\n",
            "60000/60000 [==============================] - 286s 5ms/step - loss: 0.2703 - val_loss: 0.2720\n",
            "Epoch 19/20\n",
            "60000/60000 [==============================] - 286s 5ms/step - loss: 0.2701 - val_loss: 0.2741\n",
            "Epoch 20/20\n",
            "60000/60000 [==============================] - 286s 5ms/step - loss: 0.2697 - val_loss: 0.2710\n"
          ],
          "name": "stdout"
        },
        {
          "output_type": "execute_result",
          "data": {
            "text/plain": [
              "<keras.callbacks.History at 0x7f67b6ac5cf8>"
            ]
          },
          "metadata": {
            "tags": []
          },
          "execution_count": 54
        }
      ]
    },
    {
      "metadata": {
        "id": "6axEtkyy_mGg",
        "colab_type": "code",
        "outputId": "b1bb1159-0c8e-4433-9f17-0c168e10af6d",
        "colab": {
          "base_uri": "https://localhost:8080/",
          "height": 292
        }
      },
      "cell_type": "code",
      "source": [
        "decoded_img = autoencoder.predict(x_test)\n",
        "plt.figure()\n",
        "for i in range(5):\n",
        "    ax = plt.subplot(2, 5, i+1)\n",
        "    plt.imshow(x_test[-i].reshape(28, 28))\n",
        "    ax.get_xaxis().set_visible(False)\n",
        "    ax.get_yaxis().set_visible(False)\n",
        "    ax = plt.subplot(2, 5, i+6)\n",
        "    plt.imshow(decoded_img[-i].reshape(28, 28))\n",
        "    ax.get_xaxis().set_visible(False)\n",
        "    ax.get_yaxis().set_visible(False)\n",
        "plt.show()"
      ],
      "execution_count": 56,
      "outputs": [
        {
          "output_type": "display_data",
          "data": {
            "image/png": "[encoded data removed]",
            "text/plain": [
              "<matplotlib.figure.Figure at 0x7f67b68ba828>"
            ]
          },
          "metadata": {
            "tags": []
          }
        }
      ]
    },
    {
      "metadata": {
        "id": "NSBoR6auI0Fa",
        "colab_type": "text"
      },
      "cell_type": "markdown",
      "source": [
        "# 2.1 Deep CNN"
      ]
    },
    {
      "metadata": {
        "id": "NQ2m_liaCey7",
        "colab_type": "code",
        "outputId": "1ca16aee-719d-48bc-d253-44fd57a3f1a3",
        "colab": {
          "base_uri": "https://localhost:8080/",
          "height": 526
        }
      },
      "cell_type": "code",
      "source": [
        "(X_train, y_train), (X_test, y_test) = fashion_mnist.load_data()\n",
        "X_train = X_train.reshape(X_train.shape[0], 28, 28,1).astype('float32') / 255\n",
        "X_test = X_test.reshape(X_test.shape[0], 28, 28,1).astype('float32') / 255\n",
        "Y_train = np_utils.to_categorical(y_train, 10)\n",
        "Y_test = np_utils.to_categorical(y_test, 10)\n",
        "\n",
        "model = Sequential()\n",
        "model.add(Conv2D(filters = 32,kernel_size=(3, 3), activation='relu', strides=(1, 1), padding='valid', input_shape=(28,28,1)))\n",
        "model.add(MaxPooling2D(pool_size=(2, 2)))\n",
        "model.add(Dropout(0.5))\n",
        "model.add(Conv2D(filters = 64,kernel_size=(3, 3), activation='relu', strides=(1, 1), padding='valid', input_shape=(28,28,1)))\n",
        "model.add(MaxPooling2D(pool_size=(2, 2)))\n",
        "model.add(Dropout(0.2))\n",
        "model.add(Flatten())\n",
        "model.add(Dense(256, activation='relu'))\n",
        "model.add(Dropout(0.5))\n",
        "model.add(Dense(10, activation='softmax'))\n",
        "model.compile(loss='categorical_crossentropy', optimizer='adam', metrics=['accuracy'])\n",
        "model.summary()"
      ],
      "execution_count": 14,
      "outputs": [
        {
          "output_type": "stream",
          "text": [
            "_________________________________________________________________\n",
            "Layer (type)                 Output Shape              Param #   \n",
            "=================================================================\n",
            "conv2d_1 (Conv2D)            (None, 26, 26, 32)        320       \n",
            "_________________________________________________________________\n",
            "max_pooling2d_1 (MaxPooling2 (None, 13, 13, 32)        0         \n",
            "_________________________________________________________________\n",
            "dropout_1 (Dropout)          (None, 13, 13, 32)        0         \n",
            "_________________________________________________________________\n",
            "conv2d_2 (Conv2D)            (None, 11, 11, 64)        18496     \n",
            "_________________________________________________________________\n",
            "max_pooling2d_2 (MaxPooling2 (None, 5, 5, 64)          0         \n",
            "_________________________________________________________________\n",
            "dropout_2 (Dropout)          (None, 5, 5, 64)          0         \n",
            "_________________________________________________________________\n",
            "flatten_5 (Flatten)          (None, 1600)              0         \n",
            "_________________________________________________________________\n",
            "dense_5 (Dense)              (None, 256)               409856    \n",
            "_________________________________________________________________\n",
            "dropout_3 (Dropout)          (None, 256)               0         \n",
            "_________________________________________________________________\n",
            "dense_6 (Dense)              (None, 10)                2570      \n",
            "=================================================================\n",
            "Total params: 431,242\n",
            "Trainable params: 431,242\n",
            "Non-trainable params: 0\n",
            "_________________________________________________________________\n"
          ],
          "name": "stdout"
        }
      ]
    },
    {
      "metadata": {
        "id": "ac8jfDNp4zMp",
        "colab_type": "code",
        "outputId": "2231b695-f880-49eb-dd07-38fa9ebf219e",
        "colab": {
          "base_uri": "https://localhost:8080/",
          "height": 1020
        }
      },
      "cell_type": "code",
      "source": [
        "model.fit(X_train, Y_train, batch_size=128, epochs=20, validation_data=(X_test, Y_test))"
      ],
      "execution_count": 16,
      "outputs": [
        {
          "output_type": "stream",
          "text": [
            "Train on 60000 samples, validate on 10000 samples\n",
            "Epoch 1/20\n",
            "60000/60000 [==============================] - 73s 1ms/step - loss: 0.2854 - acc: 0.8944 - val_loss: 0.2576 - val_acc: 0.9037\n",
            "Epoch 2/20\n",
            "60000/60000 [==============================] - 72s 1ms/step - loss: 0.2802 - acc: 0.8975 - val_loss: 0.2576 - val_acc: 0.9033\n",
            "Epoch 3/20\n",
            "60000/60000 [==============================] - 72s 1ms/step - loss: 0.2718 - acc: 0.8999 - val_loss: 0.2517 - val_acc: 0.9039\n",
            "Epoch 4/20\n",
            "60000/60000 [==============================] - 73s 1ms/step - loss: 0.2673 - acc: 0.9014 - val_loss: 0.2495 - val_acc: 0.9076\n",
            "Epoch 5/20\n",
            "60000/60000 [==============================] - 72s 1ms/step - loss: 0.2591 - acc: 0.9036 - val_loss: 0.2466 - val_acc: 0.9084\n",
            "Epoch 6/20\n",
            "60000/60000 [==============================] - 73s 1ms/step - loss: 0.2581 - acc: 0.9034 - val_loss: 0.2417 - val_acc: 0.9113\n",
            "Epoch 7/20\n",
            "60000/60000 [==============================] - 72s 1ms/step - loss: 0.2575 - acc: 0.9050 - val_loss: 0.2396 - val_acc: 0.9112\n",
            "Epoch 8/20\n",
            "60000/60000 [==============================] - 73s 1ms/step - loss: 0.2519 - acc: 0.9075 - val_loss: 0.2416 - val_acc: 0.9110\n",
            "Epoch 9/20\n",
            "60000/60000 [==============================] - 73s 1ms/step - loss: 0.2487 - acc: 0.9071 - val_loss: 0.2368 - val_acc: 0.9121\n",
            "Epoch 10/20\n",
            "60000/60000 [==============================] - 73s 1ms/step - loss: 0.2442 - acc: 0.9084 - val_loss: 0.2381 - val_acc: 0.9131\n",
            "Epoch 11/20\n",
            "60000/60000 [==============================] - 73s 1ms/step - loss: 0.2404 - acc: 0.9108 - val_loss: 0.2316 - val_acc: 0.9134\n",
            "Epoch 12/20\n",
            "60000/60000 [==============================] - 72s 1ms/step - loss: 0.2397 - acc: 0.9108 - val_loss: 0.2390 - val_acc: 0.9130\n",
            "Epoch 13/20\n",
            "60000/60000 [==============================] - 72s 1ms/step - loss: 0.2345 - acc: 0.9126 - val_loss: 0.2333 - val_acc: 0.9152\n",
            "Epoch 14/20\n",
            "60000/60000 [==============================] - 73s 1ms/step - loss: 0.2317 - acc: 0.9130 - val_loss: 0.2295 - val_acc: 0.9154\n",
            "Epoch 15/20\n",
            "60000/60000 [==============================] - 72s 1ms/step - loss: 0.2326 - acc: 0.9125 - val_loss: 0.2377 - val_acc: 0.9121\n",
            "Epoch 16/20\n",
            "60000/60000 [==============================] - 73s 1ms/step - loss: 0.2273 - acc: 0.9151 - val_loss: 0.2312 - val_acc: 0.9146\n",
            "Epoch 17/20\n",
            "60000/60000 [==============================] - 72s 1ms/step - loss: 0.2251 - acc: 0.9166 - val_loss: 0.2278 - val_acc: 0.9179\n",
            "Epoch 18/20\n",
            "60000/60000 [==============================] - 73s 1ms/step - loss: 0.2252 - acc: 0.9149 - val_loss: 0.2277 - val_acc: 0.9161\n",
            "Epoch 19/20\n",
            "60000/60000 [==============================] - 72s 1ms/step - loss: 0.2207 - acc: 0.9169 - val_loss: 0.2299 - val_acc: 0.9151\n",
            "Epoch 20/20\n",
            "60000/60000 [==============================] - 71s 1ms/step - loss: 0.2233 - acc: 0.9162 - val_loss: 0.2251 - val_acc: 0.9164\n"
          ],
          "name": "stdout"
        },
        {
          "output_type": "execute_result",
          "data": {
            "text/plain": [
              "<keras.callbacks.History at 0x7fce6ef701d0>"
            ]
          },
          "metadata": {
            "tags": []
          },
          "execution_count": 16
        }
      ]
    },
    {
      "metadata": {
        "id": "ewFoq7HKuyNB",
        "colab_type": "code",
        "outputId": "b6c8ffe5-7867-45c9-8b34-ec42f6cab37f",
        "colab": {
          "base_uri": "https://localhost:8080/",
          "height": 1020
        }
      },
      "cell_type": "code",
      "source": [
        "print(\"Train classification accuracy rate %0.05f\" % model.evaluate(X_train, Y_train)[1])\n",
        "print(\"Test classification accuracy rate %0.05f\" % model.evaluate(X_test, Y_test)[1])"
      ],
      "execution_count": 17,
      "outputs": [
        {
          "output_type": "stream",
          "text": [
            "60000/60000 [==============================] - 23s 383us/step\n",
            "Train classification accuracy rate 0.94877\n",
            "10000/10000 [==============================] - 4s 385us/step\n",
            "Test classification accuracy rate 0.91640\n"
          ],
          "name": "stdout"
        }
      ]
    },
    {
      "metadata": {
        "id": "7YB1Gx1XXCiZ",
        "colab_type": "text"
      },
      "cell_type": "markdown",
      "source": [
        "# 2.2 Transfer Learning"
      ]
    },
    {
      "metadata": {
        "id": "HjmJdgOC5Edu",
        "colab_type": "code",
        "outputId": "9850176b-2801-446d-aeeb-1cfa0327ca3d",
        "colab": {
          "base_uri": "https://localhost:8080/",
          "height": 734
        }
      },
      "cell_type": "code",
      "source": [
        "(X_train, y_train), (X_test, y_test) = fashion_mnist.load_data()\n",
        "X_train = X_train.astype('float32') / 255\n",
        "X_test = X_test.astype('float32') / 255\n",
        "X_train = [cv2.cvtColor(cv2.resize(i, (48,48)), cv2.COLOR_GRAY2BGR) for i in X_train]\n",
        "X_test = [cv2.cvtColor(cv2.resize(i, (48,48)), cv2.COLOR_GRAY2BGR) for i in X_test]\n",
        "X_train = np.concatenate([arr[np.newaxis] for arr in X_train])\n",
        "X_test = np.concatenate([arr[np.newaxis] for arr in X_test])\n",
        "y_train = np_utils.to_categorical(y_train, 10)\n",
        "y_test = np_utils.to_categorical(y_test, 10)"
      ],
      "execution_count": 6,
      "outputs": [
        {
          "output_type": "stream",
          "text": [
            "Downloading data from http://fashion-mnist.s3-website.eu-central-1.amazonaws.com/train-labels-idx1-ubyte.gz\n",
            "32768/29515 [=================================] - 0s 4us/step\n",
            "Downloading data from http://fashion-mnist.s3-website.eu-central-1.amazonaws.com/train-images-idx3-ubyte.gz\n",
            "26427392/26421880 [==============================] - 3s 0us/step\n",
            "Downloading data from http://fashion-mnist.s3-website.eu-central-1.amazonaws.com/t10k-labels-idx1-ubyte.gz\n",
            "8192/5148 [===============================================] - 0s 0us/step\n",
            "Downloading data from http://fashion-mnist.s3-website.eu-central-1.amazonaws.com/t10k-images-idx3-ubyte.gz\n",
            "4423680/4422102 [==============================] - 1s 0us/step\n"
          ],
          "name": "stdout"
        }
      ]
    },
    {
      "metadata": {
        "id": "z35UTg5c9_XZ",
        "colab_type": "code",
        "outputId": "7152d084-842f-4426-da98-b3c55566a3ad",
        "colab": {
          "base_uri": "https://localhost:8080/",
          "height": 694
        }
      },
      "cell_type": "code",
      "source": [
        "conv_base = VGG16(weights=\"imagenet\", include_top=False, input_shape=(48,48,3))\n",
        "conv_base.trainable = False\n",
        "\n",
        "model = Sequential()\n",
        "model.add(conv_base)\n",
        "model.add(Flatten())\n",
        "model.add(Dense(10, activation='softmax'))\n",
        "model.compile(loss=\"categorical_crossentropy\", optimizer=\"adam\", metrics=['accuracy'])\n",
        "model.summary()"
      ],
      "execution_count": 7,
      "outputs": [
        {
          "output_type": "stream",
          "text": [
            "Downloading data from https://github.com/fchollet/deep-learning-models/releases/download/v0.1/vgg16_weights_tf_dim_ordering_tf_kernels_notop.h5\n",
            "58892288/58889256 [==============================] - 4s 0us/step\n",
            "_________________________________________________________________\n",
            "Layer (type)                 Output Shape              Param #   \n",
            "=================================================================\n",
            "vgg16 (Model)                (None, 1, 1, 512)         14714688  \n",
            "_________________________________________________________________\n",
            "flatten_1 (Flatten)          (None, 512)               0         \n",
            "_________________________________________________________________\n",
            "dense_1 (Dense)              (None, 10)                5130      \n",
            "=================================================================\n",
            "Total params: 14,719,818\n",
            "Trainable params: 5,130\n",
            "Non-trainable params: 14,714,688\n",
            "_________________________________________________________________\n"
          ],
          "name": "stdout"
        }
      ]
    },
    {
      "metadata": {
        "id": "zyKX9FWtAghc",
        "colab_type": "code",
        "colab": {
          "base_uri": "https://localhost:8080/",
          "height": 1020
        },
        "outputId": "6f2834b2-3882-4e79-b799-814aee4955c1"
      },
      "cell_type": "code",
      "source": [
        "model.fit(X_train, y_train, batch_size=128, epochs=10, validation_data=(X_test, y_test))"
      ],
      "execution_count": 18,
      "outputs": [
        {
          "output_type": "stream",
          "text": [
            "Train on 60000 samples, validate on 10000 samples\n",
            "Epoch 1/10\n",
            "60000/60000 [==============================] - 1779s 30ms/step - loss: 0.6111 - acc: 0.8054 - val_loss: 0.5533 - val_acc: 0.8112\n",
            "Epoch 2/10\n",
            "60000/60000 [==============================] - 1774s 30ms/step - loss: 0.5062 - acc: 0.8273 - val_loss: 0.4971 - val_acc: 0.8278\n",
            "Epoch 3/10\n",
            "60000/60000 [==============================] - 1776s 30ms/step - loss: 0.4634 - acc: 0.8402 - val_loss: 0.4680 - val_acc: 0.8359\n",
            "Epoch 4/10\n",
            "60000/60000 [==============================] - 1776s 30ms/step - loss: 0.4381 - acc: 0.8464 - val_loss: 0.4488 - val_acc: 0.8401\n",
            "Epoch 5/10\n",
            "60000/60000 [==============================] - 1779s 30ms/step - loss: 0.4208 - acc: 0.8515 - val_loss: 0.4344 - val_acc: 0.8472\n",
            "Epoch 6/10\n",
            "60000/60000 [==============================] - 1776s 30ms/step - loss: 0.4075 - acc: 0.8555 - val_loss: 0.4259 - val_acc: 0.8506\n",
            "Epoch 7/10\n",
            "60000/60000 [==============================] - 1777s 30ms/step - loss: 0.3976 - acc: 0.8588 - val_loss: 0.4208 - val_acc: 0.8535\n",
            "Epoch 8/10\n",
            "60000/60000 [==============================] - 1773s 30ms/step - loss: 0.3894 - acc: 0.8613 - val_loss: 0.4124 - val_acc: 0.8558\n",
            "Epoch 9/10\n",
            "60000/60000 [==============================] - 1781s 30ms/step - loss: 0.3823 - acc: 0.8644 - val_loss: 0.4076 - val_acc: 0.8571\n",
            "Epoch 10/10\n",
            "60000/60000 [==============================] - 1781s 30ms/step - loss: 0.3770 - acc: 0.8664 - val_loss: 0.4018 - val_acc: 0.8592\n"
          ],
          "name": "stdout"
        },
        {
          "output_type": "execute_result",
          "data": {
            "text/plain": [
              "<keras.callbacks.History at 0x7fd3047de7b8>"
            ]
          },
          "metadata": {
            "tags": []
          },
          "execution_count": 18
        }
      ]
    },
    {
      "metadata": {
        "id": "g4Lj3Gn7Ag93",
        "colab_type": "code",
        "colab": {
          "base_uri": "https://localhost:8080/",
          "height": 1020
        },
        "outputId": "033c7e3e-ac78-40fc-c4e1-490820bb65c9"
      },
      "cell_type": "code",
      "source": [
        "print(\"Train classification accuracy rate %0.05f\" % model.evaluate(X_train, y_train)[1])\n",
        "print(\"Test classification accuracy rate %0.05f\" % model.evaluate(X_test, y_test)[1])"
      ],
      "execution_count": 8,
      "outputs": [
        {
          "output_type": "stream",
          "text": [
            "60000/60000 [==============================] - 1531s 26ms/step\n",
            "Train classification accuracy rate 0.13635\n",
            "10000/10000 [==============================] - 259s 26ms/step\n",
            "Test classification accuracy rate 0.13940\n"
          ],
          "name": "stdout"
        }
      ]
    }
  ]
}
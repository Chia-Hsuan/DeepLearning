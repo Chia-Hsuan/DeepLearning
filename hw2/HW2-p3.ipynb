{
 "cells": [
  {
   "cell_type": "code",
   "execution_count": 76,
   "metadata": {},
   "outputs": [],
   "source": [
    "import numpy as np\n",
    "import tensorflow as tf\n",
    "import pandas as pd\n",
    "import matplotlib.pyplot as plt\n",
    "import copy\n",
    "import cv2\n",
    "import keras\n",
    "from string import printable\n",
    "from keras.layers import Input, Dense, Conv2D, MaxPooling2D, MaxPooling1D, UpSampling2D, Flatten, LSTM, SimpleRNN, Embedding, Lambda, GlobalMaxPooling1D\n",
    "from keras.models import Model, Sequential\n",
    "from keras.datasets import fashion_mnist\n",
    "from keras import backend as K\n",
    "from keras.layers.core import Dense, Dropout, Activation, Flatten, Reshape\n",
    "from keras.optimizers import SGD, RMSprop\n",
    "from keras.utils import np_utils\n",
    "from keras.regularizers import l2\n",
    "from keras.layers.convolutional import Conv1D, Conv2D, MaxPooling2D, ZeroPadding2D, AveragePooling2D\n",
    "from keras.callbacks import EarlyStopping\n",
    "from keras.preprocessing.image import ImageDataGenerator\n",
    "from keras.layers.normalization import BatchNormalization\n",
    "from PIL import Image\n",
    "from keras.applications import VGG16\n",
    "from keras.preprocessing.image import ImageDataGenerator, array_to_img, img_to_array, load_img\n",
    "from keras.optimizers import RMSprop\n",
    "from sklearn.metrics import roc_curve, auc\n",
    "from sklearn.model_selection import train_test_split\n",
    "from keras import callbacks\n",
    "from keras.callbacks import TensorBoard\n",
    "from keras.preprocessing.sequence import pad_sequences"
   ]
  },
  {
   "cell_type": "code",
   "execution_count": 55,
   "metadata": {},
   "outputs": [],
   "source": [
    "# read data\n",
    "benign_list = []\n",
    "malicious_list = []\n",
    "char_set = set()\n",
    "with open(\"benign-urls.txt\") as files:\n",
    "    lines = files.readlines()\n",
    "    for line in lines:\n",
    "        if not line.startswith(\"#\"):\n",
    "            benign_list.append(line.strip())\n",
    "            for c in line:\n",
    "                char_set.add(c)\n",
    "            max_len = max(max_len, len_urls)\n",
    "with open(\"malicious-urls.txt\") as files:\n",
    "    lines = files.readlines()\n",
    "    for line in lines:\n",
    "        malicious_list.append(line.strip())\n",
    "        for c in line:\n",
    "            char_set.add(c)\n",
    "        max_len = max(max_len, len_urls)"
   ]
  },
  {
   "cell_type": "code",
   "execution_count": 56,
   "metadata": {},
   "outputs": [],
   "source": [
    "# combine and split data\n",
    "chars = sorted(list(char_set))\n",
    "char_indices = dict((c, i) for i, c in enumerate(chars))\n",
    "indices_char = dict((i, c) for i, c in enumerate(chars))\n",
    "df_b = pd.DataFrame(benign_list, columns=['url'])\n",
    "df_m = pd.DataFrame(malicious_list, columns=['url'])\n",
    "X = pd.concat([df_b, df_m])\n",
    "y = np.concatenate([np.ones(len(benign_list)), np.zeros(len(malicious_list))])\n",
    "y = np.array(y)\n",
    "X_train, X_test, y_train, y_test = train_test_split(X, y, test_size=0.3, shuffle=True)"
   ]
  },
  {
   "cell_type": "code",
   "execution_count": 49,
   "metadata": {},
   "outputs": [],
   "source": [
    "#3.1"
   ]
  },
  {
   "cell_type": "code",
   "execution_count": 50,
   "metadata": {},
   "outputs": [],
   "source": [
    "X_train_rnn = np.zeros((len(X_train), max_len, len(chars)), dtype=np.uint8)\n",
    "X_test_rnn = np.zeros((len(X_test), max_len, len(chars)), dtype=np.uint8)\n",
    "for i, seq in enumerate(list(X_train)):\n",
    "    for t, char in enumerate(seq):\n",
    "        X_train_rnn[i, t, char_indices[char]] = 1\n",
    "for i, seq in enumerate(list(X_test)):\n",
    "    for t, char in enumerate(seq):\n",
    "        X_test_rnn[i, t, char_indices[char]] = 1"
   ]
  },
  {
   "cell_type": "code",
   "execution_count": 51,
   "metadata": {},
   "outputs": [
    {
     "name": "stdout",
     "output_type": "stream",
     "text": [
      "_________________________________________________________________\n",
      "Layer (type)                 Output Shape              Param #   \n",
      "=================================================================\n",
      "simple_rnn_3 (SimpleRNN)     (None, 32)                3232      \n",
      "_________________________________________________________________\n",
      "dense_5 (Dense)              (None, 1)                 33        \n",
      "=================================================================\n",
      "Total params: 3,265\n",
      "Trainable params: 3,265\n",
      "Non-trainable params: 0\n",
      "_________________________________________________________________\n"
     ]
    }
   ],
   "source": [
    "model_rnn = Sequential()\n",
    "model_rnn.add(SimpleRNN(32, input_shape=(86, len(chars))))\n",
    "model_rnn.add(Dense(1, activation=\"softmax\"))\n",
    "model_rnn.compile(loss='binary_crossentropy', optimizer='rmsprop', metrics=['acc'])\n",
    "model_rnn.summary()"
   ]
  },
  {
   "cell_type": "code",
   "execution_count": 52,
   "metadata": {},
   "outputs": [
    {
     "name": "stdout",
     "output_type": "stream",
     "text": [
      "Epoch 1/10\n",
      "47117/47117 [==============================] - 9s 197us/step - loss: 0.3038 - acc: 0.9809\n",
      "Epoch 2/10\n",
      "47117/47117 [==============================] - 8s 176us/step - loss: 0.3038 - acc: 0.9809\n",
      "Epoch 3/10\n",
      "47117/47117 [==============================] - 9s 189us/step - loss: 0.3038 - acc: 0.9809\n",
      "Epoch 4/10\n",
      "47117/47117 [==============================] - 9s 193us/step - loss: 0.3038 - acc: 0.9809\n",
      "Epoch 5/10\n",
      "47117/47117 [==============================] - 9s 186us/step - loss: 0.3038 - acc: 0.9809\n",
      "Epoch 6/10\n",
      "47117/47117 [==============================] - 9s 189us/step - loss: 0.3038 - acc: 0.9809\n",
      "Epoch 7/10\n",
      "47117/47117 [==============================] - 9s 198us/step - loss: 0.3038 - acc: 0.9809\n",
      "Epoch 8/10\n",
      "47117/47117 [==============================] - 9s 186us/step - loss: 0.3038 - acc: 0.9809\n",
      "Epoch 9/10\n",
      "47117/47117 [==============================] - 9s 185us/step - loss: 0.3038 - acc: 0.9809\n",
      "Epoch 10/10\n",
      "47117/47117 [==============================] - 9s 184us/step - loss: 0.3038 - acc: 0.9809\n"
     ]
    },
    {
     "data": {
      "text/plain": [
       "<keras.callbacks.History at 0x1a24d09400>"
      ]
     },
     "execution_count": 52,
     "metadata": {},
     "output_type": "execute_result"
    }
   ],
   "source": [
    "model_rnn.fit(X_train_rnn, y_train, epochs=10, batch_size=128)"
   ]
  },
  {
   "cell_type": "code",
   "execution_count": 53,
   "metadata": {},
   "outputs": [
    {
     "name": "stdout",
     "output_type": "stream",
     "text": [
      "Train classification accuracy rate 0.98094\n",
      "Test classification accuracy rate 0.98029\n"
     ]
    }
   ],
   "source": [
    "print(\"Train classification accuracy rate %0.05f\" % model_rnn.evaluate(X_train_rnn, y_train, verbose=0)[1])\n",
    "print(\"Test classification accuracy rate %0.05f\" % model_rnn.evaluate(X_test_rnn, y_test, verbose=0)[1])"
   ]
  },
  {
   "cell_type": "code",
   "execution_count": null,
   "metadata": {},
   "outputs": [],
   "source": [
    "#3.2"
   ]
  },
  {
   "cell_type": "code",
   "execution_count": 81,
   "metadata": {},
   "outputs": [],
   "source": [
    "X_train_cnn = np.zeros((len(X_train), max_len), dtype=np.uint8)\n",
    "X_test_cnn = np.zeros((len(X_test), max_len), dtype=np.uint8)\n",
    "for i, seq in enumerate(list(X_train)):\n",
    "    for t, char in enumerate(seq):\n",
    "        X_train_cnn[i, t] = 1\n",
    "for i, seq in enumerate(list(X_test)):\n",
    "    for t, char in enumerate(seq):\n",
    "        X_test_cnn[i, t] = 1"
   ]
  },
  {
   "cell_type": "code",
   "execution_count": 85,
   "metadata": {},
   "outputs": [
    {
     "name": "stdout",
     "output_type": "stream",
     "text": [
      "_________________________________________________________________\n",
      "Layer (type)                 Output Shape              Param #   \n",
      "=================================================================\n",
      "input_5 (InputLayer)         (None, 86)                0         \n",
      "_________________________________________________________________\n",
      "embedding_15 (Embedding)     (None, 86, 32)            2176      \n",
      "_________________________________________________________________\n",
      "conv1d_18 (Conv1D)           (None, 84, 64)            6208      \n",
      "_________________________________________________________________\n",
      "max_pooling1d_7 (MaxPooling1 (None, 28, 64)            0         \n",
      "_________________________________________________________________\n",
      "conv1d_19 (Conv1D)           (None, 26, 64)            12352     \n",
      "_________________________________________________________________\n",
      "global_max_pooling1d_4 (Glob (None, 64)                0         \n",
      "_________________________________________________________________\n",
      "dense_18 (Dense)             (None, 1)                 65        \n",
      "=================================================================\n",
      "Total params: 20,801\n",
      "Trainable params: 20,801\n",
      "Non-trainable params: 0\n",
      "_________________________________________________________________\n"
     ]
    }
   ],
   "source": [
    "embedding = Embedding(len(chars), 32, input_length=max_len, trainable=True)\n",
    "inputs = Input(shape=(max_len,), dtype='int32')\n",
    "x = embedding(inputs)\n",
    "x = Conv1D(64, 3, activation='relu')(x)\n",
    "x = MaxPooling1D(3)(x)\n",
    "x = Conv1D(64, 3, activation='relu')(x)\n",
    "x = GlobalMaxPooling1D()(x)\n",
    "x = Dense(1, activation='sigmoid')(x)\n",
    "model_cnn = Model(inputs, x)\n",
    "model_cnn.compile(loss='binary_crossentropy', optimizer='rmsprop', metrics=['acc'])\n",
    "model_cnn.summary()"
   ]
  },
  {
   "cell_type": "code",
   "execution_count": 86,
   "metadata": {},
   "outputs": [
    {
     "name": "stdout",
     "output_type": "stream",
     "text": [
      "Epoch 1/10\n",
      "47117/47117 [==============================] - 9s 197us/step - loss: 0.1103 - acc: 0.9810\n",
      "Epoch 2/10\n",
      "47117/47117 [==============================] - 8s 173us/step - loss: 0.0949 - acc: 0.9810\n",
      "Epoch 3/10\n",
      "47117/47117 [==============================] - 9s 194us/step - loss: 0.0949 - acc: 0.9810\n",
      "Epoch 4/10\n",
      "47117/47117 [==============================] - 8s 165us/step - loss: 0.0951 - acc: 0.9810\n",
      "Epoch 5/10\n",
      "47117/47117 [==============================] - 9s 194us/step - loss: 0.0949 - acc: 0.9810\n",
      "Epoch 6/10\n",
      "47117/47117 [==============================] - 9s 189us/step - loss: 0.0950 - acc: 0.9810\n",
      "Epoch 7/10\n",
      "47117/47117 [==============================] - 8s 176us/step - loss: 0.0949 - acc: 0.9810\n",
      "Epoch 8/10\n",
      "47117/47117 [==============================] - 9s 195us/step - loss: 0.0949 - acc: 0.9810\n",
      "Epoch 9/10\n",
      "47117/47117 [==============================] - 8s 171us/step - loss: 0.0949 - acc: 0.9810\n",
      "Epoch 10/10\n",
      "47117/47117 [==============================] - 9s 199us/step - loss: 0.0948 - acc: 0.9810\n"
     ]
    },
    {
     "data": {
      "text/plain": [
       "<keras.callbacks.History at 0x1a38e42470>"
      ]
     },
     "execution_count": 86,
     "metadata": {},
     "output_type": "execute_result"
    }
   ],
   "source": [
    "model_cnn.fit(X_train_cnn, y_train, epochs=10, batch_size=128)"
   ]
  },
  {
   "cell_type": "code",
   "execution_count": 87,
   "metadata": {},
   "outputs": [
    {
     "name": "stdout",
     "output_type": "stream",
     "text": [
      "Train classification accuracy rate 0.98098\n",
      "Test classification accuracy rate 0.98019\n"
     ]
    }
   ],
   "source": [
    "print(\"Train classification accuracy rate %0.05f\" % model_cnn.evaluate(X_train_cnn, y_train, verbose=0)[1])\n",
    "print(\"Test classification accuracy rate %0.05f\" % model_cnn.evaluate(X_test_cnn, y_test, verbose=0)[1])"
   ]
  },
  {
   "cell_type": "code",
   "execution_count": null,
   "metadata": {},
   "outputs": [],
   "source": [
    "#3.3"
   ]
  },
  {
   "cell_type": "code",
   "execution_count": null,
   "metadata": {},
   "outputs": [],
   "source": [
    "rnn_result = model_rnn.predict(X_test_rnn).ravel()\n",
    "(rnn_fp, rnn_tp, rnn_threshold) = roc_curve(y_test, rnn_result)\n",
    "rnn_auc = auc(rnn_fp, rnn_tp)\n",
    "\n",
    "cnn_result = model_cnn.predict(X_test_cnn).ravel()\n",
    "(cnn_fp, cnn_tp, cnn_threshold) = roc_curve(y_test, cnn_result)\n",
    "cnn_auc = auc(cnn_fp, cnn_tp)\n",
    "plt.figure()\n",
    "plt.title('ROC')\n",
    "plt.xlabel('FP')\n",
    "plt.ylabel('TP')\n",
    "plt.plot([0, 1], [0, 1], linestyle='dashed')\n",
    "plt.plot(rnn_fp, rnn_tp, label='RNN ROC area = %0.4f' % rnn_auc)\n",
    "plt.plot(cnn_fp, cnn_tp, label='CNN ROC area = %0.4f' % cnn_auc)\n",
    "plt.legend(loc=\"best\")\n",
    "plt.show()"
   ]
  }
 ],
 "metadata": {
  "kernelspec": {
   "display_name": "Python 3",
   "language": "python",
   "name": "python3"
  },
  "language_info": {
   "codemirror_mode": {
    "name": "ipython",
    "version": 3
   },
   "file_extension": ".py",
   "mimetype": "text/x-python",
   "name": "python",
   "nbconvert_exporter": "python",
   "pygments_lexer": "ipython3",
   "version": "3.6.5"
  }
 },
 "nbformat": 4,
 "nbformat_minor": 2
}
